{
 "cells": [
  {
   "cell_type": "markdown",
   "metadata": {},
   "source": [
    "Ucitaj fileove imena **A.txt** i **B.txt**:"
   ]
  },
  {
   "cell_type": "code",
   "execution_count": null,
   "metadata": {
    "collapsed": true
   },
   "outputs": [],
   "source": [
    "def otvoriPaListaRecenica(imeFilea): \n",
    "    otvoreniFile=open(imeFilea,\"r\")\n",
    "    sadrzajFilea=otvoreniFile.read()\n",
    "    assert isinstance(sadrzajFilea, str)\n",
    "    sadrzajFilea=sadrzajFilea.split(\".\")\n",
    "    return sadrzajFilea\n",
    "\n",
    "A=otvoriPaListaRecenica(\"A.txt\")\n",
    "B=otvoriPaListaRecenica(\"B.txt\")\n",
    "#print(A, \"\\n\", len(A), \"\\n\"*3, B, \"\\n\", len(B))"
   ]
  },
  {
   "cell_type": "code",
   "execution_count": null,
   "metadata": {
    "collapsed": true
   },
   "outputs": [],
   "source": [
    "print(len(A))\n",
    "print(len(B))"
   ]
  },
  {
   "cell_type": "markdown",
   "metadata": {},
   "source": [
    "Kreiramo matricu slicnosti (listu listi trojki) takvu da: Prva lista u master listi je usporedba slicnosti prve recenice od A s prvom, drugom, trecom, itd. recenicom B. Druga lista u mater listi je slicnost druge recenice u A s prvom drugom, trecom, itd. recenicom iz B, itd."
   ]
  },
  {
   "cell_type": "code",
   "execution_count": null,
   "metadata": {
    "collapsed": true
   },
   "outputs": [],
   "source": [
    "from fuzzywuzzy import fuzz"
   ]
  },
  {
   "cell_type": "code",
   "execution_count": null,
   "metadata": {
    "collapsed": true
   },
   "outputs": [],
   "source": [
    "def slicnost(str1, str2):\n",
    "    return fuzz.token_set_ratio(str1,str2)/100.00"
   ]
  },
  {
   "cell_type": "code",
   "execution_count": null,
   "metadata": {
    "collapsed": true
   },
   "outputs": [],
   "source": [
    "import time\n",
    "start_time = time.time()\n",
    "resultingMatrix=[]\n",
    "ci=1\n",
    "for i in A:\n",
    "    malaLista=[]\n",
    "    cj=1\n",
    "    for j in B:\n",
    "        malaLista.append((slicnost(i,j), ci, cj))#, i[:10]+\"...\", j[:10]+\"...\"))\n",
    "        cj=cj+1\n",
    "    ci=ci+1\n",
    "    resultingMatrix.append(malaLista)\n",
    "print(resultingMatrix)\n",
    "print(\"--- %s seconds ---\" % round((time.time() - start_time)/60.0))"
   ]
  },
  {
   "cell_type": "code",
   "execution_count": null,
   "metadata": {
    "collapsed": true
   },
   "outputs": [],
   "source": [
    "def KreirajListuIznadPraga(izvornaLista, prag=0.5):\n",
    "    novaLista=[]\n",
    "    for i in izvornaLista:\n",
    "        novaMiniLista=[]\n",
    "        for j in i:\n",
    "            if j[0]>prag:\n",
    "                novaMiniLista.append(j)\n",
    "        if novaMiniLista!=[]:\n",
    "            novaLista.append(novaMiniLista)\n",
    "    return novaLista"
   ]
  },
  {
   "cell_type": "code",
   "execution_count": null,
   "metadata": {
    "collapsed": true
   },
   "outputs": [],
   "source": [
    "lista=KreirajListuIznadPraga(resultingMatrix, 0.1)\n",
    "print(len(lista))"
   ]
  },
  {
   "cell_type": "code",
   "execution_count": null,
   "metadata": {
    "collapsed": true
   },
   "outputs": [],
   "source": [
    "(3939-1883)/1883"
   ]
  },
  {
   "cell_type": "code",
   "execution_count": null,
   "metadata": {
    "collapsed": true
   },
   "outputs": [],
   "source": [
    "round(3.3444,2)"
   ]
  },
  {
   "cell_type": "code",
   "execution_count": null,
   "metadata": {
    "collapsed": true
   },
   "outputs": [],
   "source": []
  }
 ],
 "metadata": {
  "kernelspec": {
   "display_name": "Python 3",
   "language": "python",
   "name": "python3"
  },
  "language_info": {
   "codemirror_mode": {
    "name": "ipython",
    "version": 3
   },
   "file_extension": ".py",
   "mimetype": "text/x-python",
   "name": "python",
   "nbconvert_exporter": "python",
   "pygments_lexer": "ipython3",
   "version": "3.6.3"
  }
 },
 "nbformat": 4,
 "nbformat_minor": 2
}
